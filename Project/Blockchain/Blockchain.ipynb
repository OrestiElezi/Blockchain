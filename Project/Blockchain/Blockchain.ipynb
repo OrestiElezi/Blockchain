{
 "cells": [
  {
   "cell_type": "code",
   "execution_count": 2,
   "id": "0ae48420-2092-4299-88db-a4f072db22e1",
   "metadata": {},
   "outputs": [
    {
     "name": "stdout",
     "output_type": "stream",
     "text": [
      "Blockchain valid: True\n",
      "Index: 0, Hash: 0000f56e22c04f6c8931b6848ae7e5812326798fd26ccfb8940011954b3788b8, Prev Hash: 0, Transactions: Genesis Block\n",
      "Index: 1, Hash: 00005fd3a612d15b2e846c9ff0280ee78d71f707135f2d8f843028db17b141d0, Prev Hash: 0000f56e22c04f6c8931b6848ae7e5812326798fd26ccfb8940011954b3788b8, Transactions: Alice pays Bob 10 BTC\n",
      "Index: 2, Hash: 00006d61353de441180ff937f3fbff38e1c3fc8be455c0566d41a51333466eec, Prev Hash: 00005fd3a612d15b2e846c9ff0280ee78d71f707135f2d8f843028db17b141d0, Transactions: Bob pays Charlie 5 BTC\n"
     ]
    }
   ],
   "source": [
    "import hashlib\n",
    "import time\n",
    "import random\n",
    "\n",
    "class Block:\n",
    "    def __init__(self, index, previous_hash, transactions, difficulty=4):\n",
    "        self.index = index\n",
    "        self.timestamp = time.time()\n",
    "        self.transactions = transactions\n",
    "        self.previous_hash = previous_hash\n",
    "        self.nonce = 0\n",
    "        self.difficulty = difficulty\n",
    "        self.hash = self.mine_block()\n",
    "\n",
    "    def calculate_hash(self):\n",
    "        block_data = f\"{self.index}{self.timestamp}{self.transactions}{self.previous_hash}{self.nonce}\"\n",
    "        return hashlib.sha256(block_data.encode()).hexdigest()\n",
    "\n",
    "    def mine_block(self):\n",
    "        while True:\n",
    "            hash_attempt = self.calculate_hash()\n",
    "            if hash_attempt[:self.difficulty] == '0' * self.difficulty:\n",
    "                return hash_attempt\n",
    "            self.nonce += 1\n",
    "\n",
    "class Blockchain:\n",
    "    def __init__(self, difficulty=4):\n",
    "        self.difficulty = difficulty  # Vendos difficulty përpara krijimit të bllokut gjenezë\n",
    "        self.chain = [self.create_genesis_block()]\n",
    "\n",
    "    def create_genesis_block(self):\n",
    "        return Block(0, \"0\", \"Genesis Block\", self.difficulty)\n",
    "\n",
    "\n",
    "    def add_block(self, transactions):\n",
    "        previous_block = self.chain[-1]\n",
    "        new_block = Block(len(self.chain), previous_block.hash, transactions, self.difficulty)\n",
    "        self.chain.append(new_block)\n",
    "\n",
    "    def is_chain_valid(self):\n",
    "        for i in range(1, len(self.chain)):\n",
    "            current_block = self.chain[i]\n",
    "            previous_block = self.chain[i - 1]\n",
    "            if current_block.hash != current_block.calculate_hash():\n",
    "                return False\n",
    "            if current_block.previous_hash != previous_block.hash:\n",
    "                return False\n",
    "        return True\n",
    "\n",
    "# Example consensus mechanism: Proof of Work\n",
    "def proof_of_work(block):\n",
    "    return block.hash[:block.difficulty] == '0' * block.difficulty\n",
    "\n",
    "# Example application: Simple transaction ledger\n",
    "blockchain = Blockchain()\n",
    "blockchain.add_block(\"Alice pays Bob 10 BTC\")\n",
    "blockchain.add_block(\"Bob pays Charlie 5 BTC\")\n",
    "\n",
    "# Verify blockchain integrity\n",
    "print(\"Blockchain valid:\", blockchain.is_chain_valid())\n",
    "\n",
    "# Print the blockchain\n",
    "for block in blockchain.chain:\n",
    "    print(f\"Index: {block.index}, Hash: {block.hash}, Prev Hash: {block.previous_hash}, Transactions: {block.transactions}\")\n"
   ]
  },
  {
   "cell_type": "code",
   "execution_count": null,
   "id": "64e08603-bbad-4328-84cf-a7f06414d528",
   "metadata": {},
   "outputs": [],
   "source": []
  }
 ],
 "metadata": {
  "kernelspec": {
   "display_name": "Python 3 (ipykernel)",
   "language": "python",
   "name": "python3"
  },
  "language_info": {
   "codemirror_mode": {
    "name": "ipython",
    "version": 3
   },
   "file_extension": ".py",
   "mimetype": "text/x-python",
   "name": "python",
   "nbconvert_exporter": "python",
   "pygments_lexer": "ipython3",
   "version": "3.11.9"
  }
 },
 "nbformat": 4,
 "nbformat_minor": 5
}
